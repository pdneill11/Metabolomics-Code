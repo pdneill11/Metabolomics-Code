{
 "cells": [
  {
   "cell_type": "markdown",
   "id": "1ae7b0c4",
   "metadata": {},
   "source": [
    "# Import Moduli"
   ]
  },
  {
   "cell_type": "code",
   "execution_count": 3,
   "id": "8cd4ad2e",
   "metadata": {},
   "outputs": [],
   "source": [
    "import numpy as np\n",
    "import pandas as pd\n",
    "import csv\n",
    "import openpyxl\n",
    "import re\n",
    "import glob\n",
    "import os\n",
    "from os.path import exists as file_exists\n",
    "import matplotlib.pyplot as plt\n",
    "import scipy\n",
    "from scipy import stats"
   ]
  },
  {
   "cell_type": "markdown",
   "id": "abcece84",
   "metadata": {},
   "source": [
    "# Set Parameters"
   ]
  },
  {
   "cell_type": "code",
   "execution_count": 4,
   "id": "2d501858",
   "metadata": {},
   "outputs": [],
   "source": [
    "uL_plasma = 5\n",
    "\n",
    "cys_factor = 1.0213\n",
    "hcy_factor = 1.6548\n",
    "\n",
    "x1_values = [12.5,25,50,100,200,400]                      #Standard cysteine concentrations\n",
    "x2_values = [18.75,37.5,75,150,300,600]                   #Standard homocysteine concentrations\n",
    "\n",
    "peak_1_min = 1.6                                          #Set time window to look for peaks\n",
    "peak_1_max = 1.8\n",
    "\n",
    "peak_2_min = 3.2\n",
    "peak_2_max = 3.4\n",
    "\n",
    "peak_3_min = 6.1\n",
    "peak_3_max = 6.2\n",
    "\n",
    "minimum_peak_area = 10                                    #Sensitivity"
   ]
  },
  {
   "cell_type": "markdown",
   "id": "7b0c357b",
   "metadata": {},
   "source": [
    "# Define Functions"
   ]
  },
  {
   "cell_type": "code",
   "execution_count": 5,
   "id": "aec9daa4",
   "metadata": {},
   "outputs": [],
   "source": [
    "def calculate_standards(file_name):\n",
    "    with open(file_name, encoding=\"utf-16\", errors='ignore') as f:\n",
    "        contents = f.read()\n",
    "\n",
    "    l = re.split('[^0-9.]', contents)\n",
    "    l1 = [l[i] for i in range(0, len(l), 2)]\n",
    "    l2 = [l[i] for i in range(1, len(l), 2)]\n",
    "\n",
    "    time = []\n",
    "    area = []\n",
    "    for i in range(len(l2)):\n",
    "        A = l1[i]\n",
    "        B = l2[i]\n",
    "        floatA = float(A)\n",
    "        floatB = float(B)\n",
    "        if peak_1_min <= floatA <= peak_1_max or peak_2_min <= floatA <= peak_2_max or peak_3_min <= floatA <= peak_3_max:\n",
    "            if minimum_peak_area <= floatB:\n",
    "                r1 = l1[i]\n",
    "                r2 = l2[i]\n",
    "                newtime = time.append(r1)\n",
    "                newarea = area.append(r2)\n",
    "                if len(area) > 3:\n",
    "                    print('check ' + file_name + ' manually!')\n",
    "                    return\n",
    "            else:\n",
    "                print('check ' + file_name + ' manually!')\n",
    "                return\n",
    "    \n",
    "    cys = area[0]\n",
    "    hcy = area[1]\n",
    "    std = area[2]\n",
    "    adj_cys = float(cys)/float(std)\n",
    "    adj_hcy = float(hcy)/float(std)\n",
    "    \n",
    "    cys_values = y1_values.append(adj_cys)\n",
    "    hcy_values = y2_values.append(adj_hcy)\n",
    "\n",
    "        \n",
    "        \n",
    "def calculate_HPLC_results(file_name):\n",
    "    with open(file_name, encoding=\"utf-16\", errors='ignore') as f:\n",
    "        contents = f.read()\n",
    "\n",
    "    l = re.split('[^0-9.]', contents)    \n",
    "    l1 = [l[i] for i in range(0, len(l), 2)]\n",
    "    l2 = [l[i] for i in range(1, len(l), 2)]\n",
    "\n",
    "    time = []\n",
    "    area = []\n",
    "    for i in range(len(l2)):\n",
    "        A = l1[i]\n",
    "        B = l2[i]\n",
    "        floatA = float(A)\n",
    "        floatB = float(B)\n",
    "        if peak_1_min <= floatA <= peak_1_max or peak_2_min <= floatA <= peak_2_max or peak_3_min <= floatA <= peak_3_max:\n",
    "            if minimum_peak_area <= floatB:\n",
    "                r1 = l1[i]\n",
    "                r2 = l2[i]\n",
    "                newtime = time.append(r1)\n",
    "                newarea = area.append(r2)\n",
    "                if len(area) > 3:\n",
    "                    print('check ' + file_name + ' manually or change bounds!')\n",
    "                    return\n",
    "            else:\n",
    "                print('check ' + file_name + ' manually or change bounds!')\n",
    "                return\n",
    "                \n",
    "    cys = area[0]\n",
    "    hcy = area[1]\n",
    "    std = area[2]\n",
    "    adj_cys = float(cys)/float(std)\n",
    "    adj_hcy = float(hcy)/float(std)\n",
    "\n",
    "    conc_cys = ((adj_cys-int_cys)/slope_cys)*cys_factor\n",
    "    conc_hcy = ((adj_hcy-int_hcy)/slope_hcy)*hcy_factor\n",
    "\n",
    "    final_cys = (10/uL_plasma)*conc_cys\n",
    "    final_hcy = (10/uL_plasma)*conc_hcy\n",
    "\n",
    "    data = pd.DataFrame({'Time':[time[0],time[1],time[2]],'Area':[area[0],area[1],area[2]],'Adj':[adj_cys, adj_hcy, '1'],'Conc':[conc_cys, conc_hcy, None],'Final':[final_cys, final_hcy, file_name]})\n",
    "    index_ = ['Cys', 'Hcy', 'Std']\n",
    "    data.index = index_\n",
    "    \n",
    "    new_file_name = file_name.removesuffix('.CSV')\n",
    "    running_ids = ids.append(new_file_name)\n",
    "    final_cys_values = final_cysteine.append(final_cys)\n",
    "    final_hcy_values = final_homocysteine.append(final_hcy)\n",
    "    \n",
    "    if file_exists('compiled.xlsx'):\n",
    "        with pd.ExcelWriter('compiled.xlsx', engine=\"openpyxl\", mode='a', if_sheet_exists='replace') as writer:  \n",
    "            data.to_excel(writer, sheet_name=file_name, index=True)\n",
    "    else:\n",
    "        data.to_excel('compiled.xlsx', sheet_name=file_name, index=True)"
   ]
  },
  {
   "cell_type": "markdown",
   "id": "3751892b",
   "metadata": {},
   "source": [
    "# Get Standard"
   ]
  },
  {
   "cell_type": "code",
   "execution_count": 6,
   "id": "4c3528d9",
   "metadata": {},
   "outputs": [
    {
     "data": {
      "image/png": "[encoded data removed]",
      "text/plain": [
       "<Figure size 432x288 with 1 Axes>"
      ]
     },
     "metadata": {
      "needs_background": "light"
     },
     "output_type": "display_data"
    },
    {
     "name": "stdout",
     "output_type": "stream",
     "text": [
      "r-squared cys =  0.9988046024941847\n"
     ]
    },
    {
     "data": {
      "image/png": "[encoded data removed]",
      "text/plain": [
       "<Figure size 432x288 with 1 Axes>"
      ]
     },
     "metadata": {
      "needs_background": "light"
     },
     "output_type": "display_data"
    },
    {
     "name": "stdout",
     "output_type": "stream",
     "text": [
      "r-squared hcy =  0.9985190146227263\n"
     ]
    }
   ],
   "source": [
    "y1_values = []\n",
    "y2_values = []\n",
    "substring = 'STD'                                         #Include files with 'STD'\n",
    "path = os.getcwd()\n",
    "files = glob.glob(os.path.join(path, \"*.csv\"))\n",
    "for file in files:\n",
    "    file_name = file.split(\"\\\\\")[-1]\n",
    "    if re.match(substring, file_name, re.IGNORECASE):\n",
    "        calculate_standards(file_name)\n",
    "\n",
    "plt.scatter(x1_values, y1_values, marker='o', linestyle='None', color='r', label='cys') \n",
    "plt.xlabel('concentration')\n",
    "plt.ylabel('adjusted area')\n",
    "plt.legend()\n",
    "trend1 = np.polyfit(x1_values, y1_values, 1)\n",
    "poly1 = np.poly1d(trend1)\n",
    "new_x1 = np.linspace(x1_values[0], x1_values[-1])\n",
    "new_y1 = poly1(new_x1)\n",
    "plt.plot(new_x1, new_y1)\n",
    "slope1, intercept1, r_value1, p_value1, std_err1 = stats.linregress(x1_values, y1_values)\n",
    "plt.show()\n",
    "plt.clf()\n",
    "\n",
    "int_cys = intercept1\n",
    "slope_cys = slope1\n",
    "print('r-squared cys = ', r_value1**2)\n",
    "\n",
    "plt.scatter(x2_values, y2_values, marker='x', linestyle='None', color='g', label='hcy') \n",
    "plt.xlabel('concentration')\n",
    "plt.ylabel('adjusted area') \n",
    "plt.legend()\n",
    "trend2 = np.polyfit(x2_values, y2_values, 1)\n",
    "poly2 = np.poly1d(trend2)\n",
    "new_x2 = np.linspace(x2_values[0], x2_values[-1])\n",
    "new_y2 = poly2(new_x2)\n",
    "plt.plot(new_x2, new_y2)\n",
    "slope2, intercept2, r_value2, p_value2, std_err2 = stats.linregress(x2_values, y2_values)\n",
    "plt.show()\n",
    "\n",
    "int_hcy = intercept2\n",
    "slope_hcy = slope2\n",
    "print('r-squared hcy = ', r_value2**2)"
   ]
  },
  {
   "cell_type": "markdown",
   "id": "5c31f63b",
   "metadata": {},
   "source": [
    "# Get Data"
   ]
  },
  {
   "cell_type": "code",
   "execution_count": 56,
   "id": "761fb7ed",
   "metadata": {
    "scrolled": true
   },
   "outputs": [],
   "source": [
    "#Get sample data\n",
    "ids = []\n",
    "final_cysteine = []\n",
    "final_homocysteine = []\n",
    "substring = 'STD'                                         #Exclude files with 'STD'\n",
    "path = os.getcwd()\n",
    "files = glob.glob(os.path.join(path, \"*.csv\"))\n",
    "for file in files:\n",
    "    file_name = file.split(\"\\\\\")[-1]\n",
    "    if re.match(substring, file_name, re.IGNORECASE):\n",
    "        pass\n",
    "    else:\n",
    "        calculate_HPLC_results(file_name)\n",
    "        \n",
    "final_data = pd.DataFrame(list(zip(ids, final_cysteine, final_homocysteine)),\n",
    "               columns =['ID', 'cysteine','homocysteine'])\n",
    "final_data.to_excel('final_data.xlsx')"
   ]
  },
  {
   "cell_type": "code",
   "execution_count": null,
   "id": "fca496f8",
   "metadata": {},
   "outputs": [],
   "source": []
  }
 ],
 "metadata": {
  "kernelspec": {
   "display_name": "Python 3 (ipykernel)",
   "language": "python",
   "name": "python3"
  },
  "language_info": {
   "codemirror_mode": {
    "name": "ipython",
    "version": 3
   },
   "file_extension": ".py",
   "mimetype": "text/x-python",
   "name": "python",
   "nbconvert_exporter": "python",
   "pygments_lexer": "ipython3",
   "version": "3.9.12"
  }
 },
 "nbformat": 4,
 "nbformat_minor": 5
}
